{
 "cells": [
  {
   "cell_type": "markdown",
   "id": "549fee80",
   "metadata": {},
   "source": [
    "# TODO list fra mandag d. 24/4 kl.15:36\n",
    "\n",
    "Jeg skal fikse/finde ud af hvordna de der k-vektor fungere med class og Kn.\n",
    "\n",
    "Mit indtryk er at jeg bliver nød til at kalde class rigtig mange mange gange og der lyder lidt uhyggeligt.\n",
    "\n",
    "Så få fat i Thomas eller Emil.\n"
   ]
  },
  {
   "cell_type": "markdown",
   "id": "845ef59b",
   "metadata": {},
   "source": [
    "$\\ddot{D}+\\mathcal{H}\\dot{D}-\\frac{3}{2}\\frac{H_0^2\\Omega_m}{a}D=0$\n",
    "\n",
    "$(\\mathcal{H}\\dot{D}D+\\ddot{D}D+2\\dot{D}^2)b_-+(4D\\dot{D}+\\mathcal{H}D^2)\\dot{b}_-+2D^2\\ddot{b}_-=\\frac{3}{2}H_0^2 \\Omega_m\\frac{D^2}{a}$\n",
    "\n",
    "For now let us assume equilateral configurations, thsi means $k_1\\sim k_2 \\sim k_3 \\rightarrow \\hat{k}_1 \\cdot\\hat{k}_2 = |k|^2 \\cos(60^{\\circ})=\\frac{1}{2}|k|^2 $ \n",
    "\n"
   ]
  },
  {
   "cell_type": "code",
   "execution_count": 2,
   "id": "84188156",
   "metadata": {},
   "outputs": [],
   "source": [
    "#%matplotlib\n",
    "from classy import Class\n",
    "import numpy as np\n",
    "import matplotlib.pyplot as plt\n",
    "from math import sqrt\n",
    "import scipy.integrate as sc\n",
    "import scipy.optimize as optimize\n",
    "import scipy.interpolate\n",
    "\n",
    "import matplotlib.pyplot as plt\n",
    "import scipy.integrate as inv\n",
    "\n",
    "import scipy.special as special\n",
    "from time import time"
   ]
  },
  {
   "cell_type": "code",
   "execution_count": 15,
   "id": "7dbea821",
   "metadata": {},
   "outputs": [
    {
     "name": "stdout",
     "output_type": "stream",
     "text": [
      "cs(1)=0.00019477974533539888\n"
     ]
    },
    {
     "ename": "CosmoSevereError",
     "evalue": "\n\nError in Class: You ask classy to return an array of nonlinear P(k,z) values, but the input parameters sent to CLASS did not require any non-linear P(k,z) calculations; add e.g. 'halofit' or 'HMcode' in 'nonlinear'",
     "output_type": "error",
     "traceback": [
      "\u001b[0;31m---------------------------------------------------------------------------\u001b[0m",
      "\u001b[0;31mCosmoSevereError\u001b[0m                          Traceback (most recent call last)",
      "Cell \u001b[0;32mIn[15], line 103\u001b[0m\n\u001b[1;32m     98\u001b[0m     plt\u001b[38;5;241m.\u001b[39mfigure(np\u001b[38;5;241m.\u001b[39mrandom\u001b[38;5;241m.\u001b[39mrandint(\u001b[38;5;241m1\u001b[39m,\u001b[38;5;241m1111111\u001b[39m))\n\u001b[1;32m    101\u001b[0m     \u001b[38;5;28mprint\u001b[39m(\u001b[38;5;124m\"\u001b[39m\u001b[38;5;124mEND\u001b[39m\u001b[38;5;124m\"\u001b[39m)\n\u001b[0;32m--> 103\u001b[0m \u001b[43mTEST\u001b[49m\u001b[43m(\u001b[49m\u001b[43m)\u001b[49m\n",
      "Cell \u001b[0;32mIn[15], line 95\u001b[0m, in \u001b[0;36mTEST\u001b[0;34m(kvec, k_ind, z, mv_test, Omega_M, Omega_b, PLOT_FIGUR, div_med_a, EdSitter)\u001b[0m\n\u001b[1;32m     93\u001b[0m plt\u001b[38;5;241m.\u001b[39mloglog(sol\u001b[38;5;241m.\u001b[39mt,b(sol\u001b[38;5;241m.\u001b[39mt))\n\u001b[1;32m     94\u001b[0m z \u001b[38;5;241m=\u001b[39m \u001b[38;5;241m1\u001b[39m\u001b[38;5;241m/\u001b[39m(\u001b[38;5;241m1\u001b[39m\u001b[38;5;241m/\u001b[39m\u001b[38;5;241m4\u001b[39m \u001b[38;5;241m*\u001b[39m H0\u001b[38;5;241m*\u001b[39m\u001b[38;5;241m*\u001b[39m\u001b[38;5;241m2\u001b[39m \u001b[38;5;241m*\u001b[39m sol\u001b[38;5;241m.\u001b[39mt\u001b[38;5;241m*\u001b[39m\u001b[38;5;241m*\u001b[39m\u001b[38;5;241m2\u001b[39m) \u001b[38;5;241m-\u001b[39m \u001b[38;5;241m1\u001b[39m\n\u001b[0;32m---> 95\u001b[0m test \u001b[38;5;241m=\u001b[39m \u001b[43mT\u001b[49m\u001b[43m(\u001b[49m\u001b[43mkvec\u001b[49m\u001b[43m[\u001b[49m\u001b[43mk_ind\u001b[49m\u001b[43m]\u001b[49m\u001b[43m,\u001b[49m\u001b[43mz\u001b[49m\u001b[43m)\u001b[49m\n\u001b[1;32m     96\u001b[0m \u001b[38;5;28mprint\u001b[39m(test)\n\u001b[1;32m     97\u001b[0m plt\u001b[38;5;241m.\u001b[39mloglog(tau_class,\u001b[38;5;241m-\u001b[39mdelta_class)\n",
      "File \u001b[0;32mclassy.pyx:1026\u001b[0m, in \u001b[0;36mclassy.Class.get_pk_and_k_and_z\u001b[0;34m()\u001b[0m\n",
      "\u001b[0;31mCosmoSevereError\u001b[0m: \n\nError in Class: You ask classy to return an array of nonlinear P(k,z) values, but the input parameters sent to CLASS did not require any non-linear P(k,z) calculations; add e.g. 'halofit' or 'HMcode' in 'nonlinear'"
     ]
    },
    {
     "data": {
      "image/png": "[encoded data removed]",
      "text/plain": [
       "<Figure size 640x480 with 1 Axes>"
      ]
     },
     "metadata": {},
     "output_type": "display_data"
    }
   ],
   "source": [
    "def TEST(kvec=[1],k_ind=0,z=800,mv_test=1 ,   Omega_M = 0.3,Omega_b=0.05,PLOT_FIGUR=True,div_med_a=False,EdSitter=True):\n",
    "\n",
    "    if EdSitter==True:\n",
    "        Omega_M = 0.95\n",
    "    Omega_lambda = 1 - Omega_M - Omega_b\n",
    "    cs_factor = (25*special.zeta(5)/special.zeta(3))**0.5\n",
    "    cs_factor /= 4\n",
    "    factor = cs_factor\n",
    "    k = kvec[k_ind]\n",
    "    \n",
    "    # CLASS stuff\n",
    "    H0=67\n",
    "    Tv_k = 1.947\n",
    "    # in MeV\n",
    "    h = 0.6704\n",
    "    kb = 8.617e-11 # MeV/K\n",
    "    T0 = Tv_k * kb\n",
    "    cosmo_dict ={'H0':H0, 'Omega_cdm':Omega_M,'Omega_b':Omega_b, 'k_output_values':str(kvec).strip('[]')\n",
    "                 #,\"N_ncdm\":1,\"m_ncdm\":mv_test # massen er givet i eV s' jeg ganger min egen test m_v skal være en faktor  1e-6 mindre\n",
    "               ,'output':'tCl, lCl, dTk, vTk, pCl,mPk', 'lensing':'yes',\n",
    "                \"ncdm_fluid_approximation\":3\n",
    "                , \"YHe\":0.25\n",
    "                }\n",
    "\n",
    "    c = 3*1e5 # speed of lign in km/s\n",
    "    H0 /= c # i 1/Mpc\n",
    "\n",
    "    cosmo = Class()\n",
    "    cosmo.set(cosmo_dict)\n",
    "    cosmo.compute()\n",
    "    bg = cosmo.get_background()\n",
    "    tid = bg['proper time [Gyr]'] * c / 306.4 # det kommer af Gyrs * c = 306.4 Mpc\n",
    "    pts = cosmo.get_perturbations()['scalar']\n",
    "    # Here we create/import the powerspectrum values from class\n",
    "    tranf = cosmo.get_transfer(z=0)\n",
    "    T = cosmo.get_transfer_and_k_and_z\n",
    "    T = cosmo.get_pk_and_k_and_z\n",
    "    prim = cosmo.get_primordial()\n",
    "    k = tranf['k (h/Mpc)'] * h\n",
    "    \n",
    "    d_m_af_k =  scipy.interpolate.interp1d(k,tranf[\"d_m\"])\n",
    "    prim_interp = scipy.interpolate.interp1d(prim[\"k [1/Mpc]\"],prim[\"P_scalar(k)\"], fill_value=\"extrapolate\",kind=\"cubic\")\n",
    "    p = lambda k: 2*np.pi**2 * d_m_af_k(k)** 2 *  prim_interp(k) * h**3  *k**(-3)\n",
    "    \n",
    "    \n",
    "    mv = mv_test * 1e-6\n",
    "\n",
    "    def cs(a):\n",
    "        Tv_k = 1.947 # kelvin # MeV\n",
    "        kb = 8.617e-11 # MeV/K\n",
    "        T0 = Tv_k * kb\n",
    "        mv = mv_test * 1e-6\n",
    "        cs_factor = (25*special.zeta(5)/special.zeta(3))**0.5\n",
    "        cs_factor /= 4\n",
    "        return cs_factor *T0 / a / mv\n",
    "\n",
    "    print(f\"{cs(1)=}\")\n",
    "    \n",
    "    def H(a):\n",
    "        return H0 * np.sqrt(Omega_M /a + Omega_lambda * a**2)\n",
    "\n",
    "    delta_class = pts[k_ind][\"delta_cdm\"]\n",
    "    theta_class = pts[k_ind][\"theta_cdm\"]\n",
    "    tau_class = pts[k_ind][\"tau [Mpc]\"]\n",
    "    a_class = pts[k_ind][\"a\"]\n",
    "    interp_tau_from_a = scipy.interpolate.interp1d(a_class,tau_class)\n",
    "    delta_interp = scipy.interpolate.interp1d(tau_class,delta_class)\n",
    "    theta_interp = scipy.interpolate.interp1d(tau_class,theta_class)\n",
    "    a_interp = scipy.interpolate.interp1d(tau_class,a_class)\n",
    "    a0 = 1/(1+z)\n",
    "    a_span = [a0,1]\n",
    "    T0 = float(interp_tau_from_a(a0))\n",
    "    delta0 = delta_interp(T0)\n",
    "    t0 = tau_class[-1]\n",
    "    tspan = [T0,t0]\n",
    "    t = np.logspace(np.log10(T0),np.log10(t0),100)\n",
    "    def Dfunc(tau,y):\n",
    "        a = a_interp(tau)\n",
    "        D = y[0]\n",
    "        dD = y[1]\n",
    "        d2D = - H(a) * dD + (3/2) * H0*H0 * Omega_M * D / a\n",
    "        b = y[2]\n",
    "        db = y[3]\n",
    "        d2b = 1/(2*D*D) * (3/2 * H0**2 * Omega_M * D**2 /a - (H(a)*dD*D+d2D*D+2*dD**2)*b - (4*D*dD+H(a)*dD**2)*db)\n",
    "        return [dD,d2D,db,d2b]\n",
    "\n",
    "    start0 = [delta_interp(T0),theta_interp(T0),0,0]\n",
    "    sol = sc.solve_ivp(Dfunc, t_span = tspan, y0 = start0)\n",
    "    D = scipy.interpolate.interp1d(sol.t,-sol.y[0])\n",
    "    b = scipy.interpolate.interp1d(sol.t,-sol.y[2])\n",
    "    plt.figure(np.random.randint(1,1111111))\n",
    "    plt.loglog(sol.t,D(sol.t))\n",
    "    plt.loglog(sol.t,b(sol.t))\n",
    "    z = 1/(1/4 * H0**2 * sol.t**2) - 1\n",
    "    test = T(kvec[k_ind],z)\n",
    "    print(test)\n",
    "    plt.loglog(tau_class,-delta_class)\n",
    "    plt.figure(np.random.randint(1,1111111))\n",
    "    \n",
    "    \n",
    "    print(\"END\")\n",
    "    \n",
    "TEST()"
   ]
  },
  {
   "cell_type": "code",
   "execution_count": null,
   "id": "68b1743a",
   "metadata": {},
   "outputs": [],
   "source": []
  }
 ],
 "metadata": {
  "kernelspec": {
   "display_name": "Python 3 (ipykernel)",
   "language": "python",
   "name": "python3"
  },
  "language_info": {
   "codemirror_mode": {
    "name": "ipython",
    "version": 3
   },
   "file_extension": ".py",
   "mimetype": "text/x-python",
   "name": "python",
   "nbconvert_exporter": "python",
   "pygments_lexer": "ipython3",
   "version": "3.10.6"
  }
 },
 "nbformat": 4,
 "nbformat_minor": 5
}
