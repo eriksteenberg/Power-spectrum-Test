{
 "cells": [
  {
   "cell_type": "markdown",
   "id": "b9ebfc57",
   "metadata": {},
   "source": [
    "![billede-2.png](attachment:billede-2.png)\n"
   ]
  },
  {
   "cell_type": "markdown",
   "id": "23a4b17d",
   "metadata": {},
   "source": [
    " Sjålet fra Johans Speciale\n",
    "![billede.png](attachment:billede.png)\n",
    "![billede.png](attachment:billede.png)\n",
    "Fra artiklen shaw et al. (Tjek JohaNNS SPECIALE)\n",
    "![billede.png](attachment:billede.png)\n",
    "Jeg vil gerne replikere denne figur fra Shaw_2021 k1 = 0.88 Mpc^-1\n",
    "![billede.png](attachment:billede.png)\n",
    "![billede.png](attachment:billede.png)\n",
    "![billede.png](attachment:billede.png)\n",
    "![billede.png](attachment:billede.png)"
   ]
  }
 ],
 "metadata": {
  "kernelspec": {
   "display_name": "Python 3 (ipykernel)",
   "language": "python",
   "name": "python3"
  },
  "language_info": {
   "codemirror_mode": {
    "name": "ipython",
    "version": 3
   },
   "file_extension": ".py",
   "mimetype": "text/x-python",
   "name": "python",
   "nbconvert_exporter": "python",
   "pygments_lexer": "ipython3",
   "version": "3.10.6"
  }
 },
 "nbformat": 4,
 "nbformat_minor": 5
}
