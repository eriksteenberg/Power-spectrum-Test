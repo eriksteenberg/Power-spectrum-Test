{
 "cells": [
  {
   "cell_type": "code",
   "execution_count": 19,
   "id": "5fc0b38f",
   "metadata": {},
   "outputs": [],
   "source": [
    "from classy import Class\n",
    "import numpy as np\n",
    "import matplotlib.pyplot as plt\n",
    "from math import sqrt\n",
    "import scipy.integrate as sc\n",
    "#plt.rcParams.update({   \"text.usetex\": True,})\n",
    "import scipy.interpolate"
   ]
  },
  {
   "cell_type": "code",
   "execution_count": 5,
   "id": "ed7a74b5",
   "metadata": {},
   "outputs": [
    {
     "name": "stdout",
     "output_type": "stream",
     "text": [
      "[0.001, 0.01, 0.1, 1, 10.0]\n"
     ]
    }
   ],
   "source": [
    "kvec = np.logspace(1e-3,1e1,20)#\n",
    "kvec = [1e-3,1e-2,1e-1,1,1e1]\n",
    "print(kvec)\n",
    "Omega_M = 0.3\n",
    "Omega_R = 7e-5\n",
    "Omega_lambda = 1 - Omega_M - Omega_R\n",
    "\n",
    "H0 = 67 / (3*1e5) # i 1/Mpc\n",
    "cosmo_dict ={'H0':70, 'Omega_b':0.05, 'Omega_cdm':0.25, 'k_output_values':str(kvec).strip('[]'), \n",
    "           'output':'tCl, lCl, dTk, vTk, pCl', 'lensing':'yes',}\n",
    "\n",
    "cosmo = Class()\n",
    "cosmo.set(cosmo_dict)\n",
    "cosmo.compute()\n",
    "bg = cosmo.get_background()\n",
    "\n",
    "pts = cosmo.get_perturbations()['scalar']\n",
    "#print(bg.keys())\n",
    "pts0=pts[0]\n",
    "#print(f\"{pts0.keys()=}\")\n",
    "#print( cosmo.Hubble(0))\n",
    "\n"
   ]
  },
  {
   "cell_type": "markdown",
   "id": "5cf81e72",
   "metadata": {},
   "source": [
    "# Neutrino stuff\n",
    "\n",
    "$T(a) = T_0 * a^{-1}$\n",
    "\n",
    "$T_0 = 1.9 k$"
   ]
  },
  {
   "cell_type": "code",
   "execution_count": 44,
   "id": "c240da9f",
   "metadata": {},
   "outputs": [
    {
     "name": "stdout",
     "output_type": "stream",
     "text": [
      "1.6777299e-10\n"
     ]
    }
   ],
   "source": [
    "# nuetrino stuff\n",
    "\n",
    "# mass\n",
    "\n",
    "mv = 0.09e-6 # 1 MeV\n",
    "\n",
    "# temperature \n",
    "# today \n",
    "# in kelvin\n",
    "\n",
    "Tv_k = 1.947\n",
    "# in MeV\n",
    "kb = 8.617e-11 # MeV/K\n",
    "\n",
    "T0 = Tv_k * kb\n",
    "print(T0)\n"
   ]
  },
  {
   "cell_type": "code",
   "execution_count": 7,
   "id": "fd5fd7b9",
   "metadata": {},
   "outputs": [],
   "source": [
    "z = bg[\"z\"]\n",
    "a = 1/(z+1)\n",
    "aend = a[-1]\n",
    "a0 = a[0]"
   ]
  },
  {
   "cell_type": "code",
   "execution_count": 42,
   "id": "7f409cf0",
   "metadata": {},
   "outputs": [
    {
     "name": "stdout",
     "output_type": "stream",
     "text": [
      "9.999999999999987e-15 1.0001652631534843\n",
      "0.9998270450641846\n"
     ]
    }
   ],
   "source": [
    "def H(a):\n",
    "    return H0 * np.sqrt(Omega_lambda + Omega_M /( a **3) + Omega_R /( a**4)) \n",
    "\n",
    "\n",
    "def tau_cal(a,y):\n",
    "    # Vores \"tids\"-værdi i denne differentialligning er a\n",
    "    tau = y[0]\n",
    "    d_tau = 1 / (a ** 2 * H(a))\n",
    "    return np.array(d_tau)\n",
    "\n",
    "tau0 = (1/H0) * (Omega_R ** (-0.5)) * a0\n",
    "\n",
    "\n",
    "sol_tau = sc.solve_ivp(tau_cal,t_span=[a0,aend],y0=[tau0])\n",
    "tau =sol_tau.y[0]\n",
    "\n",
    "def a_solve(tau,y):\n",
    "    a = y[0]\n",
    "    a_dt = a * a * H(a)\n",
    "    return [a_dt]\n",
    "\n",
    "a_solve = sc.solve_ivp(a_solve,t_span=[tau[0],tau[-1]],y0=[a0])\n",
    "a_tau = a_solve.t\n",
    "a = a_solve.y[0]\n",
    "print(a[0],a[-1])\n",
    "a_interp = scipy.interpolate.interp1d(a_tau,a)\n",
    "print(a_interp(14550))\n",
    "\n",
    "\n"
   ]
  },
  {
   "cell_type": "code",
   "execution_count": 46,
   "id": "0a30e970",
   "metadata": {},
   "outputs": [],
   "source": [
    "# neutrino temperatur function\n",
    "\n",
    "def Tv(a):\n",
    "    return T0 / a # in MeV\n",
    "\n",
    "\n",
    "def cs(a):\n",
    "    return 2.680 * Tv(a) / mv"
   ]
  },
  {
   "cell_type": "code",
   "execution_count": 54,
   "id": "3f35d10c",
   "metadata": {},
   "outputs": [
    {
     "name": "stdout",
     "output_type": "stream",
     "text": [
      "[-1.018531191689055, 2.373358813587738e-05] [5.351769892542055e-09, 14552.495074531013]\n"
     ]
    },
    {
     "ename": "ValueError",
     "evalue": "setting an array element with a sequence. The requested array has an inhomogeneous shape after 1 dimensions. The detected shape was (2,) + inhomogeneous part.",
     "output_type": "error",
     "traceback": [
      "\u001b[0;31m---------------------------------------------------------------------------\u001b[0m",
      "\u001b[0;31mValueError\u001b[0m                                Traceback (most recent call last)",
      "Cell \u001b[0;32mIn[54], line 22\u001b[0m\n\u001b[1;32m     19\u001b[0m t_span \u001b[38;5;241m=\u001b[39m [tau0,tau[\u001b[38;5;241m-\u001b[39m\u001b[38;5;241m1\u001b[39m]]\n\u001b[1;32m     21\u001b[0m \u001b[38;5;28mprint\u001b[39m(params,t_span)\n\u001b[0;32m---> 22\u001b[0m sol_cb \u001b[38;5;241m=\u001b[39m \u001b[43msc\u001b[49m\u001b[38;5;241;43m.\u001b[39;49m\u001b[43msolve_ivp\u001b[49m\u001b[43m(\u001b[49m\u001b[43mcb_solve\u001b[49m\u001b[43m,\u001b[49m\u001b[43mt_span\u001b[49m\u001b[43m \u001b[49m\u001b[38;5;241;43m=\u001b[39;49m\u001b[43m \u001b[49m\u001b[43mt_span\u001b[49m\u001b[43m,\u001b[49m\u001b[43m \u001b[49m\u001b[43my0\u001b[49m\u001b[43m \u001b[49m\u001b[38;5;241;43m=\u001b[39;49m\u001b[43m \u001b[49m\u001b[43mparams\u001b[49m\u001b[43m)\u001b[49m\n\u001b[1;32m     23\u001b[0m \u001b[38;5;66;03m#delta = sol_cb.y[0]\u001b[39;00m\n\u001b[1;32m     24\u001b[0m \u001b[38;5;66;03m#print(delta)\u001b[39;00m\n",
      "File \u001b[0;32m~/SPECIALE/CLASS/tutorial-env/lib/python3.8/site-packages/scipy/integrate/_ivp/ivp.py:555\u001b[0m, in \u001b[0;36msolve_ivp\u001b[0;34m(fun, t_span, y0, method, t_eval, dense_output, events, vectorized, args, **options)\u001b[0m\n\u001b[1;32m    552\u001b[0m \u001b[38;5;28;01mif\u001b[39;00m method \u001b[38;5;129;01min\u001b[39;00m METHODS:\n\u001b[1;32m    553\u001b[0m     method \u001b[38;5;241m=\u001b[39m METHODS[method]\n\u001b[0;32m--> 555\u001b[0m solver \u001b[38;5;241m=\u001b[39m \u001b[43mmethod\u001b[49m\u001b[43m(\u001b[49m\u001b[43mfun\u001b[49m\u001b[43m,\u001b[49m\u001b[43m \u001b[49m\u001b[43mt0\u001b[49m\u001b[43m,\u001b[49m\u001b[43m \u001b[49m\u001b[43my0\u001b[49m\u001b[43m,\u001b[49m\u001b[43m \u001b[49m\u001b[43mtf\u001b[49m\u001b[43m,\u001b[49m\u001b[43m \u001b[49m\u001b[43mvectorized\u001b[49m\u001b[38;5;241;43m=\u001b[39;49m\u001b[43mvectorized\u001b[49m\u001b[43m,\u001b[49m\u001b[43m \u001b[49m\u001b[38;5;241;43m*\u001b[39;49m\u001b[38;5;241;43m*\u001b[39;49m\u001b[43moptions\u001b[49m\u001b[43m)\u001b[49m\n\u001b[1;32m    557\u001b[0m \u001b[38;5;28;01mif\u001b[39;00m t_eval \u001b[38;5;129;01mis\u001b[39;00m \u001b[38;5;28;01mNone\u001b[39;00m:\n\u001b[1;32m    558\u001b[0m     ts \u001b[38;5;241m=\u001b[39m [t0]\n",
      "File \u001b[0;32m~/SPECIALE/CLASS/tutorial-env/lib/python3.8/site-packages/scipy/integrate/_ivp/rk.py:94\u001b[0m, in \u001b[0;36mRungeKutta.__init__\u001b[0;34m(self, fun, t0, y0, t_bound, max_step, rtol, atol, vectorized, first_step, **extraneous)\u001b[0m\n\u001b[1;32m     92\u001b[0m \u001b[38;5;28mself\u001b[39m\u001b[38;5;241m.\u001b[39mmax_step \u001b[38;5;241m=\u001b[39m validate_max_step(max_step)\n\u001b[1;32m     93\u001b[0m \u001b[38;5;28mself\u001b[39m\u001b[38;5;241m.\u001b[39mrtol, \u001b[38;5;28mself\u001b[39m\u001b[38;5;241m.\u001b[39matol \u001b[38;5;241m=\u001b[39m validate_tol(rtol, atol, \u001b[38;5;28mself\u001b[39m\u001b[38;5;241m.\u001b[39mn)\n\u001b[0;32m---> 94\u001b[0m \u001b[38;5;28mself\u001b[39m\u001b[38;5;241m.\u001b[39mf \u001b[38;5;241m=\u001b[39m \u001b[38;5;28;43mself\u001b[39;49m\u001b[38;5;241;43m.\u001b[39;49m\u001b[43mfun\u001b[49m\u001b[43m(\u001b[49m\u001b[38;5;28;43mself\u001b[39;49m\u001b[38;5;241;43m.\u001b[39;49m\u001b[43mt\u001b[49m\u001b[43m,\u001b[49m\u001b[43m \u001b[49m\u001b[38;5;28;43mself\u001b[39;49m\u001b[38;5;241;43m.\u001b[39;49m\u001b[43my\u001b[49m\u001b[43m)\u001b[49m\n\u001b[1;32m     95\u001b[0m \u001b[38;5;28;01mif\u001b[39;00m first_step \u001b[38;5;129;01mis\u001b[39;00m \u001b[38;5;28;01mNone\u001b[39;00m:\n\u001b[1;32m     96\u001b[0m     \u001b[38;5;28mself\u001b[39m\u001b[38;5;241m.\u001b[39mh_abs \u001b[38;5;241m=\u001b[39m select_initial_step(\n\u001b[1;32m     97\u001b[0m         \u001b[38;5;28mself\u001b[39m\u001b[38;5;241m.\u001b[39mfun, \u001b[38;5;28mself\u001b[39m\u001b[38;5;241m.\u001b[39mt, \u001b[38;5;28mself\u001b[39m\u001b[38;5;241m.\u001b[39my, \u001b[38;5;28mself\u001b[39m\u001b[38;5;241m.\u001b[39mf, \u001b[38;5;28mself\u001b[39m\u001b[38;5;241m.\u001b[39mdirection,\n\u001b[1;32m     98\u001b[0m         \u001b[38;5;28mself\u001b[39m\u001b[38;5;241m.\u001b[39merror_estimator_order, \u001b[38;5;28mself\u001b[39m\u001b[38;5;241m.\u001b[39mrtol, \u001b[38;5;28mself\u001b[39m\u001b[38;5;241m.\u001b[39matol)\n",
      "File \u001b[0;32m~/SPECIALE/CLASS/tutorial-env/lib/python3.8/site-packages/scipy/integrate/_ivp/base.py:138\u001b[0m, in \u001b[0;36mOdeSolver.__init__.<locals>.fun\u001b[0;34m(t, y)\u001b[0m\n\u001b[1;32m    136\u001b[0m \u001b[38;5;28;01mdef\u001b[39;00m \u001b[38;5;21mfun\u001b[39m(t, y):\n\u001b[1;32m    137\u001b[0m     \u001b[38;5;28mself\u001b[39m\u001b[38;5;241m.\u001b[39mnfev \u001b[38;5;241m+\u001b[39m\u001b[38;5;241m=\u001b[39m \u001b[38;5;241m1\u001b[39m\n\u001b[0;32m--> 138\u001b[0m     \u001b[38;5;28;01mreturn\u001b[39;00m \u001b[38;5;28;43mself\u001b[39;49m\u001b[38;5;241;43m.\u001b[39;49m\u001b[43mfun_single\u001b[49m\u001b[43m(\u001b[49m\u001b[43mt\u001b[49m\u001b[43m,\u001b[49m\u001b[43m \u001b[49m\u001b[43my\u001b[49m\u001b[43m)\u001b[49m\n",
      "File \u001b[0;32m~/SPECIALE/CLASS/tutorial-env/lib/python3.8/site-packages/scipy/integrate/_ivp/base.py:20\u001b[0m, in \u001b[0;36mcheck_arguments.<locals>.fun_wrapped\u001b[0;34m(t, y)\u001b[0m\n\u001b[1;32m     19\u001b[0m \u001b[38;5;28;01mdef\u001b[39;00m \u001b[38;5;21mfun_wrapped\u001b[39m(t, y):\n\u001b[0;32m---> 20\u001b[0m     \u001b[38;5;28;01mreturn\u001b[39;00m \u001b[43mnp\u001b[49m\u001b[38;5;241;43m.\u001b[39;49m\u001b[43masarray\u001b[49m\u001b[43m(\u001b[49m\u001b[43mfun\u001b[49m\u001b[43m(\u001b[49m\u001b[43mt\u001b[49m\u001b[43m,\u001b[49m\u001b[43m \u001b[49m\u001b[43my\u001b[49m\u001b[43m)\u001b[49m\u001b[43m,\u001b[49m\u001b[43m \u001b[49m\u001b[43mdtype\u001b[49m\u001b[38;5;241;43m=\u001b[39;49m\u001b[43mdtype\u001b[49m\u001b[43m)\u001b[49m\n",
      "\u001b[0;31mValueError\u001b[0m: setting an array element with a sequence. The requested array has an inhomogeneous shape after 1 dimensions. The detected shape was (2,) + inhomogeneous part."
     ]
    }
   ],
   "source": [
    "#a0 = a_class[0]\n",
    "\n",
    "\n",
    "def cb_solve(tau,y):    \n",
    "    delta = y[0]\n",
    "    theta = y[1]\n",
    "    d_delta = - theta\n",
    "    d_theta = - H(a_interp(tau)) * theta - 3/2 * H(a)**2 * Omega_M * delta\n",
    "    return [d_delta,d_theta]\n",
    "\n",
    "\n",
    "\n",
    "delta0 = pts[0][\"delta_cdm\"][0]\n",
    "theta0 = pts[0][\"theta_cdm\"][0]\n",
    "\n",
    "\n",
    "params = [delta0,theta0]\n",
    "\n",
    "t_span = [tau0,tau[-1]]\n",
    "\n",
    "print(params,t_span)\n",
    "sol_cb = sc.solve_ivp(cb_solve,t_span = t_span, y0 = params)\n",
    "#delta = sol_cb.y[0]\n",
    "#print(delta)\n",
    "\n"
   ]
  },
  {
   "cell_type": "code",
   "execution_count": null,
   "id": "adcef27a",
   "metadata": {},
   "outputs": [],
   "source": []
  }
 ],
 "metadata": {
  "kernelspec": {
   "display_name": "Python 3 (ipykernel)",
   "language": "python",
   "name": "python3"
  },
  "language_info": {
   "codemirror_mode": {
    "name": "ipython",
    "version": 3
   },
   "file_extension": ".py",
   "mimetype": "text/x-python",
   "name": "python",
   "nbconvert_exporter": "python",
   "pygments_lexer": "ipython3",
   "version": "3.8.10"
  }
 },
 "nbformat": 4,
 "nbformat_minor": 5
}
